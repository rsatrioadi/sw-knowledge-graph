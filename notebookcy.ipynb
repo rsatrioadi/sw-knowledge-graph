{
 "cells": [
  {
   "cell_type": "code",
   "execution_count": 1,
   "metadata": {},
   "outputs": [
    {
     "name": "stdout",
     "output_type": "stream",
     "text": [
      "Requirement already satisfied: py4cytoscape in c:\\users\\20215365\\applications\\miniconda3\\lib\\site-packages (1.5.0)\n",
      "Requirement already satisfied: networkx in c:\\users\\20215365\\applications\\miniconda3\\lib\\site-packages (from py4cytoscape) (2.6.3)\n",
      "Requirement already satisfied: decorator in c:\\users\\20215365\\applications\\miniconda3\\lib\\site-packages (from py4cytoscape) (5.1.0)\n",
      "Requirement already satisfied: pandas in c:\\users\\20215365\\applications\\miniconda3\\lib\\site-packages (from py4cytoscape) (1.3.5)\n",
      "Requirement already satisfied: colorbrewer in c:\\users\\20215365\\applications\\miniconda3\\lib\\site-packages (from py4cytoscape) (0.2.0)\n",
      "Requirement already satisfied: python-igraph in c:\\users\\20215365\\applications\\miniconda3\\lib\\site-packages (from py4cytoscape) (0.9.11)\n",
      "Requirement already satisfied: chardet in c:\\users\\20215365\\applications\\miniconda3\\lib\\site-packages (from py4cytoscape) (4.0.0)\n",
      "Requirement already satisfied: requests in c:\\users\\20215365\\applications\\miniconda3\\lib\\site-packages (from py4cytoscape) (2.27.1)\n",
      "Requirement already satisfied: six in c:\\users\\20215365\\applications\\miniconda3\\lib\\site-packages (from colorbrewer->py4cytoscape) (1.16.0)\n",
      "Requirement already satisfied: pytz>=2017.3 in c:\\users\\20215365\\applications\\miniconda3\\lib\\site-packages (from pandas->py4cytoscape) (2019.3)\n",
      "Requirement already satisfied: python-dateutil>=2.7.3 in c:\\users\\20215365\\applications\\miniconda3\\lib\\site-packages (from pandas->py4cytoscape) (2.8.1)\n",
      "Requirement already satisfied: numpy>=1.17.3 in c:\\users\\20215365\\applications\\miniconda3\\lib\\site-packages (from pandas->py4cytoscape) (1.22.1)\n",
      "Requirement already satisfied: igraph==0.9.11 in c:\\users\\20215365\\applications\\miniconda3\\lib\\site-packages (from python-igraph->py4cytoscape) (0.9.11)\n",
      "Requirement already satisfied: texttable>=1.6.2 in c:\\users\\20215365\\applications\\miniconda3\\lib\\site-packages (from igraph==0.9.11->python-igraph->py4cytoscape) (1.6.4)\n",
      "Requirement already satisfied: urllib3<1.27,>=1.21.1 in c:\\users\\20215365\\applications\\miniconda3\\lib\\site-packages (from requests->py4cytoscape) (1.26.7)\n",
      "Requirement already satisfied: charset-normalizer~=2.0.0 in c:\\users\\20215365\\applications\\miniconda3\\lib\\site-packages (from requests->py4cytoscape) (2.0.4)\n",
      "Requirement already satisfied: idna<4,>=2.5 in c:\\users\\20215365\\applications\\miniconda3\\lib\\site-packages (from requests->py4cytoscape) (3.3)\n",
      "Requirement already satisfied: certifi>=2017.4.17 in c:\\users\\20215365\\applications\\miniconda3\\lib\\site-packages (from requests->py4cytoscape) (2022.6.15)\n",
      "Loading Javascript client ... 8a374abb-83c8-48e6-aba0-12ae54aef3d2 on https://jupyter-bridge.cytoscape.org\n"
     ]
    },
    {
     "data": {
      "application/javascript": "var Channel = \"8a374abb-83c8-48e6-aba0-12ae54aef3d2\"; \n\nvar JupyterBridge = \"https://jupyter-bridge.cytoscape.org\"; \n\n  /*\n    These functions serve as a connector between a remote Jupyter server and Cytoscape.\n    They run in the user's browser, which also shows the Jupyter Notebook.\n\n    A remote Jupyter Notebook call to the py4cytoscape package is forwarded to the Jupyter Bridge,\n    which is a standalone server. The functions in this connector execute in the Jupyter Notebook\n    browser, which executes on the same PC as Cytoscape. So, that's 4 components: (A) remote\n    Jupyter Notebook, (B) separate Jupyter Bridge server, (C) this browser-based component, and\n    (D) Cytoscape. (A) is on a remote server, (B) is on a different remote server, and (C) and (D)\n    are on the user's PC.\n\n    (A) calls its py4cytoscape module, which forwards the request (in a JSON wrapper) to (B).\n    (C) picks up the request from (B), unpacks the request and forwards it to (D). (C) awaits a\n    reply from (D), and when it gets it, it forwards the reply (in a JSON wrapper) to (B).\n    (A)'s py4cytoscape module picks up the reply on (B) when it becomes available, unpacks it,\n    and returns it to (A).\n\n    A Jupyter Notebook can talk to only one Cytoscape (i.e., the one on the machine running the\n    Jupyter Notebook browser), and Cytoscape should be called by only one Jupyter Notebook. The\n    Jupyter Bridge differentiates between Notebook-Cytoscape conversations via a channel UUID.\n    The UUID is prepended to this browser component by py4Cytoscape, and the component is\n    started by the Jupyter Notebook. (I wish py4Cytoscape could start the component, too, but I\n    haven't figured out how to do that yet, so startup code *is* required in the Jupyter\n    Notebook.)\n\n    Note that for the case of a Jupyter server running on the same machine as Cytoscape, this\n    bridge isn't necessary because the Jupyter server's HTTP calls can easily connect to\n    Cytoscape over a localhost socket. So, the combination of Jupyter Bridge and this browser\n    component solves the problem of a Jupyter server (e.g., Google's Colab) that can't\n    connect to Cytoscape that sits behind a firewall.\n\n    The request represents an HTTP call that py4cytoscape would normally make via HTTP directly\n    to Cytoscape via localhost when both py4cytoscape and Cytoscape are running on the same machine.\n */\n\nconst VERSION = '0.0.2'\n\nvar showDebug; // Flag indicating whether to show Jupyter-bridge progress\nif (typeof showDebug === 'undefined') {\n    showDebug = false\n}\nif (showDebug) {\n    alert(\"Starting Jupyter-bridge browser component\")\n}\n\n//const JupyterBridge = 'http://127.0.0.1:5000' // for testing against local Jupyter-bridge\nvar JupyterBridge; // URL of Jupyter-bridge server could be defined by assignment pre-pended to this file\nif (typeof JupyterBridge === 'undefined') {\n    JupyterBridge = 'https://jupyter-bridge.cytoscape.org' // for production\n}\nvar Channel; // Unique constant that could be defined by assignment pre-pended to this file\nif (typeof Channel === 'undefined') { // ... but if not assigned, use a debugging value\n    Channel = 1\n}\n\n\nvar httpR = new XMLHttpRequest(); // for sending reply to Jupyter-bridge\nvar httpRE = new XMLHttpRequest(); // for sending backup error reply to Jupyter-bridge\nvar httpC = new XMLHttpRequest(); // for sending command to Cytoscape\nvar httpJ = new XMLHttpRequest(); // for fetching request from Jupyter-bridge\n\nconst HTTP_OK = 200\nconst HTTP_SYS_ERR = 500\nconst HTTP_TIMEOUT = 408\nconst HTTP_TOO_MANY = 429\n\n\n /* This function is useful if we want to rewrite the incoming URL to resolve just to our local one.\n    Doing this stops the Jupyter component from abusing this client to call out to endpoints other\n    than local Cytoscape. On the other hand, it makes it hard to detect when the Jupyter component\n    has specified a genuinely bad URL and really should get an error result. For now, we'll execute\n    the Jupyter-supplied URL and return the result, whatever it may be.\n\nconst LocalCytoscape = 'http://127.0.0.1:1234'\n\nfunction parseURL(url) {\n    var reURLInformation = new RegExp([\n        '^(https?:)//', // protocol\n        '(([^:/?#]*)(?::([0-9]+))?)', // host (hostname and port)\n        '(/{0,1}[^?#]*)', // pathname\n        '(\\\\?[^#]*|)', // search\n        '(#.*|)$' // hash\n    ].join(''));\n    var match = url.match(reURLInformation);\n    return match && {\n        url: url,\n        protocol: match[1],\n        host: match[2],\n        hostname: match[3],\n        port: match[4],\n        pathname: match[5],\n        search: match[6],\n        hash: match[7]\n    }\n}\n*/\n\nfunction replyCytoscape(replyStatus, replyStatusText, replyText) {\n\n    // Clean up after Jupyter bridge accepts reply\n    httpR.onreadystatechange = function() {\n        if (httpR.readyState === 4) {\n            if (showDebug) {\n                console.log(' status from queue_reply: ' + httpR.status + ', reply: ' + httpR.responseText)\n            }\n        }\n    }\n\n    httpR.onerror = function() {\n        // Clean up after Jupyter bridge accepts backup reply\n        httpRE.onreadystatechange = function() {\n            if (httpRE.readyState === 4) {\n                if (showDebug) {\n                    console.log(' status from backup queue_reply: ' + httpRE.status + ', reply: ' + httpRE.responseText)\n                }\n            }\n        }\n\n        if (showDebug) {\n            console.log(' error from queue_reply -- could be Jupyter-Bridge server reject')\n        }\n        var errReply = {'status': HTTP_SYS_ERR, 'reason': 'Jupyter-Bridge rejected reply', 'text': 'Possibly reply is too long for Jupyter-Bridge server'}\n        httpRE.open('POST', jupyterBridgeURL, true)\n        httpRE.setRequestHeader('Content-Type', 'text/plain')\n        httpRE.send(JSON.stringify(errReply))\n    }\n\n    var reply = {'status': replyStatus, 'reason': replyStatusText, 'text': replyText}\n\n    // Send reply to Jupyter bridge\n    var jupyterBridgeURL = JupyterBridge + '/queue_reply?channel=' + Channel\n    if (showDebug) {\n        console.log('Starting queue to Jupyter bridge: ' + jupyterBridgeURL)\n    }\n    httpR.open('POST', jupyterBridgeURL, true)\n    httpR.setRequestHeader('Content-Type', 'text/plain')\n    httpR.send(JSON.stringify(reply))\n}\n\nfunction callCytoscape(callSpec) {\n\n    // Captures Cytoscape reply and sends it on\n    httpC.onreadystatechange = function() {\n        if (httpC.readyState === 4) {\n            if (showDebug) {\n                console.log(' status from CyREST: ' + httpC.status + ', statusText: ' + httpC.statusText + ', reply: ' + httpC.responseText)\n            }\n            // Note that httpC.status is 0 if the URL can't be reached *OR* there is a CORS violation.\n            // I wish I could tell the difference because for a CORS violation, I'd return a 404,\n            // which would roughly match what Python's native request package would return.\n            // The practical consequence is that the ultimate caller (e.g., py4cytoscape)\n            // returns different exceptions, depending on wither this module is doing the\n            // HTTP operation or the native Python requests package is. This is minor, but\n            // messes up tests that verify the exception type.\n            replyCytoscape(httpC.status, httpC.statusText, httpC.responseText)\n            waitOnJupyterBridge()\n        }\n    }\n\n//  Build up request to Cytoscape, making sure host is local.\n//    Too heavy handed: localURL = LocalCytoscape + parseURL(callSpec.url).pathname\n    var localURL = callSpec.url // Try using what was passed in ... is there a security risk??\n\n    if (showDebug) {\n        console.log('Command to CyREST: ' + callSpec.command + ' (' + localURL + ')')\n        if (callSpec.params) {\n            console.log(' params: ' + JSON.stringify(callSpec.params))\n        }\n        if (callSpec.headers) {\n            console.log(' header: ' + JSON.stringify(callSpec.headers))\n        }\n        if (callSpec.data) {\n            console.log('   data: ' + JSON.stringify(callSpec.data))\n        }\n    }\n\n    if (callSpec.command === 'webbrowser') {\n        if (window.open(callSpec.url)) {\n            replyCytoscape(HTTP_OK, 'OK', '')\n        } else {\n            replyCytoscape(HTTP_SYS_ERR, 'BAD BROWSER OPEN', '')\n        }\n        waitOnJupyterBridge()\n    } else if (callSpec.command === 'version') {\n        replyCytoscape(HTTP_OK, 'OK',\n            JSON.stringify({\"jupyterBridgeVersion\": VERSION}))\n        waitOnJupyterBridge()\n    } else {\n        var joiner = '?'\n        for (let param in callSpec.params) {\n            localURL = localURL + joiner + param + '=' + encodeURIComponent(callSpec.params[param])\n            joiner = '&'\n        }\n\n        httpC.open(callSpec.command, localURL, true)\n        for (let header in callSpec.headers) {\n            httpC.setRequestHeader(header, callSpec.headers[header])\n        }\n\n        // Send request to Cytoscape ... reply goes to onreadystatechange handler\n        httpC.send(JSON.stringify(callSpec.data))\n    }\n}\n\nfunction waitOnJupyterBridge() {\n\n    // Captures request from Jupyter bridge\n    httpJ.onreadystatechange = function() {\n        if (httpJ.readyState === 4) {\n            if (showDebug) {\n                console.log(' status from dequeue_request: ' + httpJ.status + ', reply: ' + httpJ.responseText)\n            }\n            try {\n                if (httpJ.status == HTTP_TOO_MANY) {\n                    // Nothing more to do ... the browser has created too many listeners,\n                    // and it's time to stop listening because the server saw a listener\n                    // listening on this channel before we got there.\n                    console.log('  shutting down because of redundant reader on channel: ' + Channel)\n                } else {\n                    if (httpJ.status === HTTP_TIMEOUT) {\n                        waitOnJupyterBridge()\n                    } else {\n                        callCytoscape(JSON.parse(httpJ.responseText))\n                    }\n                }\n            } catch(err) {\n                if (showDebug) {\n                    console.log(' exception calling Cytoscape: ' + err)\n                }\n                // Bad responseText means something bad happened that we don't understand.\n                // Go wait on another request, as there's nothing to call Cytoscape with.\n                waitOnJupyterBridge()\n            }\n        }\n    }\n\n    // Wait for request from Jupyter bridge\n    var jupyterBridgeURL = JupyterBridge + '/dequeue_request?channel=' + Channel\n    if (showDebug) {\n        console.log('Starting dequeue on Jupyter bridge: ' + jupyterBridgeURL)\n    }\n    httpJ.open('GET', jupyterBridgeURL, true)\n    httpJ.send()\n}\n\n// This kicks off a loop that ends by calling waitOnJupyterBridge again. This first call\n// ejects any dead readers before we start a read\nwaitOnJupyterBridge() // Wait for message from Jupyter bridge, execute it, and return reply\n\nif (showDebug) {\n    alert(\"Jupyter-bridge browser component is started on \" + JupyterBridge + ', channel ' + Channel)\n}\n",
      "text/plain": [
       "<IPython.core.display.Javascript object>"
      ]
     },
     "execution_count": 1,
     "metadata": {},
     "output_type": "execute_result"
    }
   ],
   "source": [
    "import requests\n",
    "\n",
    "exec(open(\"p4c_init.py\").read())\n",
    "IPython.display.Javascript(_PY4CYTOSCAPE_BROWSER_CLIENT_JS) # Start browser client"
   ]
  },
  {
   "cell_type": "code",
   "execution_count": 2,
   "metadata": {},
   "outputs": [
    {
     "name": "stdout",
     "output_type": "stream",
     "text": [
      "You are connected to Cytoscape!\n"
     ]
    },
    {
     "data": {
      "text/plain": [
       "{'apiVersion': 'v1',\n",
       " 'cytoscapeVersion': '3.9.1',\n",
       " 'automationAPIVersion': '1.6.0',\n",
       " 'py4cytoscapeVersion': '1.5.0'}"
      ]
     },
     "execution_count": 2,
     "metadata": {},
     "output_type": "execute_result"
    }
   ],
   "source": [
    "import py4cytoscape as p4c\n",
    "\n",
    "p4c.cytoscape_ping()\n",
    "p4c.cytoscape_version_info()"
   ]
  },
  {
   "cell_type": "code",
   "execution_count": 3,
   "metadata": {},
   "outputs": [],
   "source": [
    "import pandas as pd\n"
   ]
  },
  {
   "cell_type": "code",
   "execution_count": 4,
   "metadata": {},
   "outputs": [
    {
     "name": "stdout",
     "output_type": "stream",
     "text": [
      "Applying default style...\n",
      "Applying preferred layout\n",
      "Applying default style...\n",
      "Applying preferred layout\n"
     ]
    }
   ],
   "source": [
    "projects = ['BitcoinWallet', 'K9Mail']\n",
    "# 'JHotDraw', 'JEdit', 'SweetHome3D', 'BitcoinWallet', 'K9Mail'\n",
    "\n",
    "for project in projects:\n",
    "  prjfile = project.lower()\n",
    "  nodes = pd.read_csv(f\"{prjfile}-nodes.csv\")\n",
    "  edges = pd.read_csv(f\"{prjfile}-edges.csv\")\n",
    "\n",
    "  p4c.create_network_from_data_frames(nodes, edges, title=project, collection=project)\n",
    "\n",
    "  p4c.set_visual_style('SAR')"
   ]
  }
 ],
 "metadata": {
  "kernelspec": {
   "display_name": "Python 3.9.5 ('base')",
   "language": "python",
   "name": "python3"
  },
  "language_info": {
   "codemirror_mode": {
    "name": "ipython",
    "version": 3
   },
   "file_extension": ".py",
   "mimetype": "text/x-python",
   "name": "python",
   "nbconvert_exporter": "python",
   "pygments_lexer": "ipython3",
   "version": "3.9.5"
  },
  "orig_nbformat": 4,
  "vscode": {
   "interpreter": {
    "hash": "3aea9d04d643a3dad58bd6e15bcfdd921ab432a7c2b9a15d89f108cc0c05ed72"
   }
  }
 },
 "nbformat": 4,
 "nbformat_minor": 2
}
