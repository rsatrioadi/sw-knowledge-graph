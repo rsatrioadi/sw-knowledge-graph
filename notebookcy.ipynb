{
 "cells": [
  {
   "cell_type": "code",
   "execution_count": null,
   "metadata": {},
   "outputs": [],
   "source": [
    "import requests\n",
    "\n",
    "exec(open(\"p4c_init.py\").read())\n",
    "IPython.display.Javascript(_PY4CYTOSCAPE_BROWSER_CLIENT_JS) # Start browser client"
   ]
  },
  {
   "cell_type": "code",
   "execution_count": null,
   "metadata": {},
   "outputs": [],
   "source": [
    "import py4cytoscape as p4c\n",
    "\n",
    "p4c.cytoscape_ping()\n",
    "p4c.cytoscape_version_info()"
   ]
  },
  {
   "cell_type": "code",
   "execution_count": null,
   "metadata": {},
   "outputs": [],
   "source": [
    "import pandas as pd\n"
   ]
  },
  {
   "cell_type": "code",
   "execution_count": null,
   "metadata": {},
   "outputs": [],
   "source": [
    "\n",
    "nodes = pd.read_csv(\"jhotdrawcompacted-0-nodes.csv\")\n",
    "edges = pd.read_csv(\"jhotdrawcompacted-0-edges.csv\")\n",
    "\n",
    "p4c.create_network_from_data_frames(nodes, edges, title=\"JHotDraw\", collection=\"JHotDraw\")"
   ]
  },
  {
   "cell_type": "code",
   "execution_count": null,
   "metadata": {},
   "outputs": [],
   "source": [
    "p4c.set_visual_style('Marquee')\n",
    "p4c.notebook_export_show_image()"
   ]
  },
  {
   "cell_type": "code",
   "execution_count": null,
   "metadata": {},
   "outputs": [],
   "source": [
    "len(set())"
   ]
  },
  {
   "cell_type": "code",
   "execution_count": null,
   "metadata": {},
   "outputs": [],
   "source": [
    "\n",
    "nodes = pd.read_csv(\"sweethome3d-nodes.csv\")\n",
    "edges = pd.read_csv(\"sweethome3d-edges.csv\")\n",
    "\n",
    "p4c.create_network_from_data_frames(nodes, edges, title=\"SweetHome3D\", collection=\"SweetHome3D\")"
   ]
  },
  {
   "cell_type": "code",
   "execution_count": null,
   "metadata": {},
   "outputs": [],
   "source": [
    "p4c.set_visual_style('Marquee')\n",
    "p4c.notebook_export_show_image()"
   ]
  },
  {
   "cell_type": "code",
   "execution_count": null,
   "metadata": {},
   "outputs": [],
   "source": [
    "\n",
    "nodes = pd.read_csv(\"jedit-nodes.csv\")\n",
    "edges = pd.read_csv(\"jedit-edges.csv\")\n",
    "\n",
    "p4c.create_network_from_data_frames(nodes, edges, title=\"JEdit\", collection=\"JEdit\")"
   ]
  },
  {
   "cell_type": "code",
   "execution_count": null,
   "metadata": {},
   "outputs": [],
   "source": [
    "p4c.set_visual_style('Curved')\n",
    "p4c.notebook_export_show_image()"
   ]
  }
 ],
 "metadata": {
  "kernelspec": {
   "display_name": "Python 3.9.5 ('base')",
   "language": "python",
   "name": "python3"
  },
  "language_info": {
   "codemirror_mode": {
    "name": "ipython",
    "version": 3
   },
   "file_extension": ".py",
   "mimetype": "text/x-python",
   "name": "python",
   "nbconvert_exporter": "python",
   "pygments_lexer": "ipython3",
   "version": "3.9.5"
  },
  "orig_nbformat": 4,
  "vscode": {
   "interpreter": {
    "hash": "3aea9d04d643a3dad58bd6e15bcfdd921ab432a7c2b9a15d89f108cc0c05ed72"
   }
  }
 },
 "nbformat": 4,
 "nbformat_minor": 2
}
