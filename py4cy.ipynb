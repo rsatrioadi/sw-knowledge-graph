{
 "cells": [
  {
   "cell_type": "markdown",
   "id": "b88976a6-0c1e-4865-915e-d81717709b4b",
   "metadata": {},
   "source": [
    "# Overview of py4cytoscape\n",
    "[![Open In Colab](https://colab.research.google.com/assets/colab-badge.svg)](https://colab.research.google.com/github/cytoscape/cytoscape-automation/new/master/for-scripters/Python/Overview-of-py4cytoscape.ipynb)\n",
    "\n",
    "**by Kozo Nishida, Alexander Pico, Tanja Muetze, Georgi Kolishovski, Paul Shannon, Barry Demchak**\n",
    "\n",
    "**py4cytoscape 1.3.0**\n",
    "\n",
    "Cytoscape is a well-known bioinformatics tool for displaying and exploring biological networks. Python is a powerful programming language and environment for statistical and exploratory data analysis. *py4cytoscape* uses CyREST to communicate between **Python** and Cytoscape, allowing any graphs (e.g., igraph or dataframes) to be viewed, explored and manipulated with the Cytoscape point-and-click visual interface. Thus, via py4cytoscape, these two quite different, quite useful bioinformatics software environments are connected, mutually enhancing each other, providing new possibilities for exploring biological data.\n",
    " \n",
    "## Prerequisites\n",
    "There are two options for using py4cytoscape.\n",
    "\n",
    "1. **LOCAL** Cytoscape (3.9.1 or greater) + **Local** Jupyter environment (including py4cytoscape).\n",
    "2. **LOCAL** Cytoscape (3.9.1 or greater) + **Remote** Jupyter environment (including py4cytoscape).\n",
    "\n",
    "### Setup required for option **1.**\n",
    "\n",
    "- Install Cytoscape on your PC. (See https://cytoscape.org/download.html)\n",
    "- Install Jupyter on your PC. (See https://jupyter.org/install)\n",
    "- Install py4cytoscape with `pip install py4cytoscape` on your PC.\n",
    "\n",
    "### Setup required for option **2.**\n",
    "\n",
    "- Install Cytoscape on your PC. (See https://cytoscape.org/download.html)\n",
    "- Run the next cell.\n",
    "  The next cell installs py4cytoscape in the **REMOTE** Jupyter environment and set up [Jupyter-Bridge](https://github.com/cytoscape/jupyter-bridge).\n",
    "  (If you use your **LOCAL** Jupyter environment in **your desktop machine** same with Cytoscape, you can **skip** the next cell.)"
   ]
  },
  {
   "cell_type": "code",
   "execution_count": 1,
   "id": "27b41adb-2426-4499-8240-8a50acb8b0dd",
   "metadata": {},
   "outputs": [
    {
     "name": "stdout",
     "output_type": "stream",
     "text": [
      "Requirement already satisfied: py4cytoscape in c:\\users\\20215365\\applications\\miniconda3\\lib\\site-packages (1.5.0)\n",
      "Requirement already satisfied: decorator in c:\\users\\20215365\\applications\\miniconda3\\lib\\site-packages (from py4cytoscape) (5.1.0)\n",
      "Requirement already satisfied: chardet in c:\\users\\20215365\\applications\\miniconda3\\lib\\site-packages (from py4cytoscape) (4.0.0)\n",
      "Requirement already satisfied: networkx in c:\\users\\20215365\\applications\\miniconda3\\lib\\site-packages (from py4cytoscape) (2.6.3)\n",
      "Requirement already satisfied: python-igraph in c:\\users\\20215365\\applications\\miniconda3\\lib\\site-packages (from py4cytoscape) (0.9.11)\n",
      "Requirement already satisfied: colorbrewer in c:\\users\\20215365\\applications\\miniconda3\\lib\\site-packages (from py4cytoscape) (0.2.0)\n",
      "Requirement already satisfied: pandas in c:\\users\\20215365\\applications\\miniconda3\\lib\\site-packages (from py4cytoscape) (1.3.5)\n",
      "Requirement already satisfied: requests in c:\\users\\20215365\\applications\\miniconda3\\lib\\site-packages (from py4cytoscape) (2.27.1)\n",
      "Requirement already satisfied: six in c:\\users\\20215365\\applications\\miniconda3\\lib\\site-packages (from colorbrewer->py4cytoscape) (1.16.0)\n",
      "Requirement already satisfied: numpy>=1.17.3 in c:\\users\\20215365\\applications\\miniconda3\\lib\\site-packages (from pandas->py4cytoscape) (1.22.1)\n",
      "Requirement already satisfied: pytz>=2017.3 in c:\\users\\20215365\\applications\\miniconda3\\lib\\site-packages (from pandas->py4cytoscape) (2019.3)\n",
      "Requirement already satisfied: python-dateutil>=2.7.3 in c:\\users\\20215365\\applications\\miniconda3\\lib\\site-packages (from pandas->py4cytoscape) (2.8.1)\n",
      "Requirement already satisfied: igraph==0.9.11 in c:\\users\\20215365\\applications\\miniconda3\\lib\\site-packages (from python-igraph->py4cytoscape) (0.9.11)\n",
      "Requirement already satisfied: texttable>=1.6.2 in c:\\users\\20215365\\applications\\miniconda3\\lib\\site-packages (from igraph==0.9.11->python-igraph->py4cytoscape) (1.6.4)\n",
      "Requirement already satisfied: charset-normalizer~=2.0.0 in c:\\users\\20215365\\applications\\miniconda3\\lib\\site-packages (from requests->py4cytoscape) (2.0.4)\n",
      "Requirement already satisfied: certifi>=2017.4.17 in c:\\users\\20215365\\applications\\miniconda3\\lib\\site-packages (from requests->py4cytoscape) (2022.6.15)\n",
      "Requirement already satisfied: urllib3<1.27,>=1.21.1 in c:\\users\\20215365\\applications\\miniconda3\\lib\\site-packages (from requests->py4cytoscape) (1.26.7)\n",
      "Requirement already satisfied: idna<4,>=2.5 in c:\\users\\20215365\\applications\\miniconda3\\lib\\site-packages (from requests->py4cytoscape) (3.3)\n",
      "Loading Javascript client ... 1e2fcd91-b108-4fee-9646-5b8730dfc287 on https://jupyter-bridge.cytoscape.org\n"
     ]
    },
    {
     "data": {
      "application/javascript": "var Channel = \"1e2fcd91-b108-4fee-9646-5b8730dfc287\"; \n\nvar JupyterBridge = \"https://jupyter-bridge.cytoscape.org\"; \n\n  /*\n    These functions serve as a connector between a remote Jupyter server and Cytoscape.\n    They run in the user's browser, which also shows the Jupyter Notebook.\n\n    A remote Jupyter Notebook call to the py4cytoscape package is forwarded to the Jupyter Bridge,\n    which is a standalone server. The functions in this connector execute in the Jupyter Notebook\n    browser, which executes on the same PC as Cytoscape. So, that's 4 components: (A) remote\n    Jupyter Notebook, (B) separate Jupyter Bridge server, (C) this browser-based component, and\n    (D) Cytoscape. (A) is on a remote server, (B) is on a different remote server, and (C) and (D)\n    are on the user's PC.\n\n    (A) calls its py4cytoscape module, which forwards the request (in a JSON wrapper) to (B).\n    (C) picks up the request from (B), unpacks the request and forwards it to (D). (C) awaits a\n    reply from (D), and when it gets it, it forwards the reply (in a JSON wrapper) to (B).\n    (A)'s py4cytoscape module picks up the reply on (B) when it becomes available, unpacks it,\n    and returns it to (A).\n\n    A Jupyter Notebook can talk to only one Cytoscape (i.e., the one on the machine running the\n    Jupyter Notebook browser), and Cytoscape should be called by only one Jupyter Notebook. The\n    Jupyter Bridge differentiates between Notebook-Cytoscape conversations via a channel UUID.\n    The UUID is prepended to this browser component by py4Cytoscape, and the component is\n    started by the Jupyter Notebook. (I wish py4Cytoscape could start the component, too, but I\n    haven't figured out how to do that yet, so startup code *is* required in the Jupyter\n    Notebook.)\n\n    Note that for the case of a Jupyter server running on the same machine as Cytoscape, this\n    bridge isn't necessary because the Jupyter server's HTTP calls can easily connect to\n    Cytoscape over a localhost socket. So, the combination of Jupyter Bridge and this browser\n    component solves the problem of a Jupyter server (e.g., Google's Colab) that can't\n    connect to Cytoscape that sits behind a firewall.\n\n    The request represents an HTTP call that py4cytoscape would normally make via HTTP directly\n    to Cytoscape via localhost when both py4cytoscape and Cytoscape are running on the same machine.\n */\n\nconst VERSION = '0.0.2'\n\nvar showDebug; // Flag indicating whether to show Jupyter-bridge progress\nif (typeof showDebug === 'undefined') {\n    showDebug = false\n}\nif (showDebug) {\n    alert(\"Starting Jupyter-bridge browser component\")\n}\n\n//const JupyterBridge = 'http://127.0.0.1:5000' // for testing against local Jupyter-bridge\nvar JupyterBridge; // URL of Jupyter-bridge server could be defined by assignment pre-pended to this file\nif (typeof JupyterBridge === 'undefined') {\n    JupyterBridge = 'https://jupyter-bridge.cytoscape.org' // for production\n}\nvar Channel; // Unique constant that could be defined by assignment pre-pended to this file\nif (typeof Channel === 'undefined') { // ... but if not assigned, use a debugging value\n    Channel = 1\n}\n\n\nvar httpR = new XMLHttpRequest(); // for sending reply to Jupyter-bridge\nvar httpRE = new XMLHttpRequest(); // for sending backup error reply to Jupyter-bridge\nvar httpC = new XMLHttpRequest(); // for sending command to Cytoscape\nvar httpJ = new XMLHttpRequest(); // for fetching request from Jupyter-bridge\n\nconst HTTP_OK = 200\nconst HTTP_SYS_ERR = 500\nconst HTTP_TIMEOUT = 408\nconst HTTP_TOO_MANY = 429\n\n\n /* This function is useful if we want to rewrite the incoming URL to resolve just to our local one.\n    Doing this stops the Jupyter component from abusing this client to call out to endpoints other\n    than local Cytoscape. On the other hand, it makes it hard to detect when the Jupyter component\n    has specified a genuinely bad URL and really should get an error result. For now, we'll execute\n    the Jupyter-supplied URL and return the result, whatever it may be.\n\nconst LocalCytoscape = 'http://127.0.0.1:1234'\n\nfunction parseURL(url) {\n    var reURLInformation = new RegExp([\n        '^(https?:)//', // protocol\n        '(([^:/?#]*)(?::([0-9]+))?)', // host (hostname and port)\n        '(/{0,1}[^?#]*)', // pathname\n        '(\\\\?[^#]*|)', // search\n        '(#.*|)$' // hash\n    ].join(''));\n    var match = url.match(reURLInformation);\n    return match && {\n        url: url,\n        protocol: match[1],\n        host: match[2],\n        hostname: match[3],\n        port: match[4],\n        pathname: match[5],\n        search: match[6],\n        hash: match[7]\n    }\n}\n*/\n\nfunction replyCytoscape(replyStatus, replyStatusText, replyText) {\n\n    // Clean up after Jupyter bridge accepts reply\n    httpR.onreadystatechange = function() {\n        if (httpR.readyState === 4) {\n            if (showDebug) {\n                console.log(' status from queue_reply: ' + httpR.status + ', reply: ' + httpR.responseText)\n            }\n        }\n    }\n\n    httpR.onerror = function() {\n        // Clean up after Jupyter bridge accepts backup reply\n        httpRE.onreadystatechange = function() {\n            if (httpRE.readyState === 4) {\n                if (showDebug) {\n                    console.log(' status from backup queue_reply: ' + httpRE.status + ', reply: ' + httpRE.responseText)\n                }\n            }\n        }\n\n        if (showDebug) {\n            console.log(' error from queue_reply -- could be Jupyter-Bridge server reject')\n        }\n        var errReply = {'status': HTTP_SYS_ERR, 'reason': 'Jupyter-Bridge rejected reply', 'text': 'Possibly reply is too long for Jupyter-Bridge server'}\n        httpRE.open('POST', jupyterBridgeURL, true)\n        httpRE.setRequestHeader('Content-Type', 'text/plain')\n        httpRE.send(JSON.stringify(errReply))\n    }\n\n    var reply = {'status': replyStatus, 'reason': replyStatusText, 'text': replyText}\n\n    // Send reply to Jupyter bridge\n    var jupyterBridgeURL = JupyterBridge + '/queue_reply?channel=' + Channel\n    if (showDebug) {\n        console.log('Starting queue to Jupyter bridge: ' + jupyterBridgeURL)\n    }\n    httpR.open('POST', jupyterBridgeURL, true)\n    httpR.setRequestHeader('Content-Type', 'text/plain')\n    httpR.send(JSON.stringify(reply))\n}\n\nfunction callCytoscape(callSpec) {\n\n    // Captures Cytoscape reply and sends it on\n    httpC.onreadystatechange = function() {\n        if (httpC.readyState === 4) {\n            if (showDebug) {\n                console.log(' status from CyREST: ' + httpC.status + ', statusText: ' + httpC.statusText + ', reply: ' + httpC.responseText)\n            }\n            // Note that httpC.status is 0 if the URL can't be reached *OR* there is a CORS violation.\n            // I wish I could tell the difference because for a CORS violation, I'd return a 404,\n            // which would roughly match what Python's native request package would return.\n            // The practical consequence is that the ultimate caller (e.g., py4cytoscape)\n            // returns different exceptions, depending on wither this module is doing the\n            // HTTP operation or the native Python requests package is. This is minor, but\n            // messes up tests that verify the exception type.\n            replyCytoscape(httpC.status, httpC.statusText, httpC.responseText)\n            waitOnJupyterBridge()\n        }\n    }\n\n//  Build up request to Cytoscape, making sure host is local.\n//    Too heavy handed: localURL = LocalCytoscape + parseURL(callSpec.url).pathname\n    var localURL = callSpec.url // Try using what was passed in ... is there a security risk??\n\n    if (showDebug) {\n        console.log('Command to CyREST: ' + callSpec.command + ' (' + localURL + ')')\n        if (callSpec.params) {\n            console.log(' params: ' + JSON.stringify(callSpec.params))\n        }\n        if (callSpec.headers) {\n            console.log(' header: ' + JSON.stringify(callSpec.headers))\n        }\n        if (callSpec.data) {\n            console.log('   data: ' + JSON.stringify(callSpec.data))\n        }\n    }\n\n    if (callSpec.command === 'webbrowser') {\n        if (window.open(callSpec.url)) {\n            replyCytoscape(HTTP_OK, 'OK', '')\n        } else {\n            replyCytoscape(HTTP_SYS_ERR, 'BAD BROWSER OPEN', '')\n        }\n        waitOnJupyterBridge()\n    } else if (callSpec.command === 'version') {\n        replyCytoscape(HTTP_OK, 'OK',\n            JSON.stringify({\"jupyterBridgeVersion\": VERSION}))\n        waitOnJupyterBridge()\n    } else {\n        var joiner = '?'\n        for (let param in callSpec.params) {\n            localURL = localURL + joiner + param + '=' + encodeURIComponent(callSpec.params[param])\n            joiner = '&'\n        }\n\n        httpC.open(callSpec.command, localURL, true)\n        for (let header in callSpec.headers) {\n            httpC.setRequestHeader(header, callSpec.headers[header])\n        }\n\n        // Send request to Cytoscape ... reply goes to onreadystatechange handler\n        httpC.send(JSON.stringify(callSpec.data))\n    }\n}\n\nfunction waitOnJupyterBridge() {\n\n    // Captures request from Jupyter bridge\n    httpJ.onreadystatechange = function() {\n        if (httpJ.readyState === 4) {\n            if (showDebug) {\n                console.log(' status from dequeue_request: ' + httpJ.status + ', reply: ' + httpJ.responseText)\n            }\n            try {\n                if (httpJ.status == HTTP_TOO_MANY) {\n                    // Nothing more to do ... the browser has created too many listeners,\n                    // and it's time to stop listening because the server saw a listener\n                    // listening on this channel before we got there.\n                    console.log('  shutting down because of redundant reader on channel: ' + Channel)\n                } else {\n                    if (httpJ.status === HTTP_TIMEOUT) {\n                        waitOnJupyterBridge()\n                    } else {\n                        callCytoscape(JSON.parse(httpJ.responseText))\n                    }\n                }\n            } catch(err) {\n                if (showDebug) {\n                    console.log(' exception calling Cytoscape: ' + err)\n                }\n                // Bad responseText means something bad happened that we don't understand.\n                // Go wait on another request, as there's nothing to call Cytoscape with.\n                waitOnJupyterBridge()\n            }\n        }\n    }\n\n    // Wait for request from Jupyter bridge\n    var jupyterBridgeURL = JupyterBridge + '/dequeue_request?channel=' + Channel\n    if (showDebug) {\n        console.log('Starting dequeue on Jupyter bridge: ' + jupyterBridgeURL)\n    }\n    httpJ.open('GET', jupyterBridgeURL, true)\n    httpJ.send()\n}\n\n// This kicks off a loop that ends by calling waitOnJupyterBridge again. This first call\n// ejects any dead readers before we start a read\nwaitOnJupyterBridge() // Wait for message from Jupyter bridge, execute it, and return reply\n\nif (showDebug) {\n    alert(\"Jupyter-bridge browser component is started on \" + JupyterBridge + ', channel ' + Channel)\n}\n",
      "text/plain": [
       "<IPython.core.display.Javascript object>"
      ]
     },
     "execution_count": 1,
     "metadata": {},
     "output_type": "execute_result"
    }
   ],
   "source": [
    "import requests\n",
    "exec(requests.get(\"https://raw.githubusercontent.com/cytoscape/jupyter-bridge/master/client/p4c_init.py\").text)\n",
    "IPython.display.Javascript(_PY4CYTOSCAPE_BROWSER_CLIENT_JS) # Start browser client"
   ]
  },
  {
   "cell_type": "markdown",
   "id": "29ef9275-b417-49e3-abcd-6f86c7b8e80b",
   "metadata": {},
   "source": [
    "## Getting started\n",
    "**NOTE: To run this notebook, you must manually start Cytoscape first – don’t proceed until you have started Cytoscape.**\n",
    "\n",
    "First, confirm that you have everything installed and running:"
   ]
  },
  {
   "cell_type": "code",
   "execution_count": 2,
   "id": "d7e1411c-c349-4a7e-93ee-fc88f04e107c",
   "metadata": {},
   "outputs": [
    {
     "name": "stdout",
     "output_type": "stream",
     "text": [
      "You are connected to Cytoscape!\n"
     ]
    },
    {
     "data": {
      "text/plain": [
       "{'apiVersion': 'v1',\n",
       " 'cytoscapeVersion': '3.9.1',\n",
       " 'automationAPIVersion': '1.6.0',\n",
       " 'py4cytoscapeVersion': '1.5.0'}"
      ]
     },
     "execution_count": 2,
     "metadata": {},
     "output_type": "execute_result"
    }
   ],
   "source": [
    "import py4cytoscape as p4c\n",
    "p4c.cytoscape_ping()\n",
    "p4c.cytoscape_version_info()"
   ]
  },
  {
   "cell_type": "markdown",
   "id": "5a7503ce-cca6-4ada-b612-a04f4c3b4bb4",
   "metadata": {},
   "source": [
    "## My first network\n",
    "\n",
    "Let’s create a Cytoscape network from some basic Python objects"
   ]
  },
  {
   "cell_type": "code",
   "execution_count": 3,
   "id": "e42f0c99-5283-4a6d-b967-6e4f5b90dd69",
   "metadata": {},
   "outputs": [
    {
     "name": "stdout",
     "output_type": "stream",
     "text": [
      "Applying default style...\n",
      "Applying preferred layout\n"
     ]
    },
    {
     "data": {
      "text/plain": [
       "248"
      ]
     },
     "execution_count": 3,
     "metadata": {},
     "output_type": "execute_result"
    }
   ],
   "source": [
    "import pandas as pd\n",
    "nodes = pd.DataFrame(data={'id': [\"node 0\",\"node 1\",\"node 2\",\"node 3\"], 'group': [\"A\",\"A\",\"B\",\"B\"], 'score': [20,10,15,5]})\n",
    "edges = pd.DataFrame(data={'source': [\"node 0\",\"node 0\",\"node 0\",\"node 2\"], 'target': [\"node 1\",\"node 2\",\"node 3\",\"node 3\"], 'interaction': [\"inhibits\",\"interacts\",\"activates\",\"interacts\"], 'weight': [5.1,3.0,5.2,9.9]})\n",
    "\n",
    "p4c.create_network_from_data_frames(nodes, edges, title=\"my first network\", collection=\"DataFrame Example\")"
   ]
  },
  {
   "cell_type": "code",
   "execution_count": 4,
   "id": "9920b341-54c0-41df-978d-121ff6a847ce",
   "metadata": {},
   "outputs": [
    {
     "data": {
      "image/png": "[encoded data removed]",
      "text/plain": [
       "<IPython.core.display.Image object>"
      ]
     },
     "execution_count": 4,
     "metadata": {},
     "output_type": "execute_result"
    }
   ],
   "source": [
    "p4c.notebook_export_show_image()"
   ]
  },
  {
   "cell_type": "markdown",
   "id": "ebd1a9f4-ed78-48e0-bb9a-b7ac04c7e6f7",
   "metadata": {},
   "source": [
    "### Switch styles\n",
    "\n",
    "Check out the marquee style!"
   ]
  },
  {
   "cell_type": "code",
   "execution_count": 5,
   "id": "8be030ac-96dd-47b3-af5d-47e6246150a6",
   "metadata": {},
   "outputs": [
    {
     "data": {
      "text/plain": [
       "{'message': 'Visual Style applied.'}"
      ]
     },
     "execution_count": 5,
     "metadata": {},
     "output_type": "execute_result"
    }
   ],
   "source": [
    "p4c.set_visual_style('Marquee')"
   ]
  },
  {
   "cell_type": "code",
   "execution_count": 6,
   "id": "ba3052fd-4751-4874-96c0-bdf90977adad",
   "metadata": {},
   "outputs": [
    {
     "data": {
      "image/png": "[encoded data removed]",
      "text/plain": [
       "<IPython.core.display.Image object>"
      ]
     },
     "execution_count": 6,
     "metadata": {},
     "output_type": "execute_result"
    }
   ],
   "source": [
    "p4c.notebook_export_show_image()"
   ]
  },
  {
   "cell_type": "markdown",
   "id": "90cf11f0-5ce8-484f-b5fd-0489e5d221e0",
   "metadata": {},
   "source": [
    "### My own style\n",
    "\n",
    "Create your own style with node attribute fill mappings and some defaults"
   ]
  },
  {
   "cell_type": "code",
   "execution_count": 7,
   "id": "34b3c303-e874-4661-b2ff-5849537efca9",
   "metadata": {},
   "outputs": [
    {
     "data": {
      "text/plain": [
       "{'message': 'Visual Style applied.'}"
      ]
     },
     "execution_count": 7,
     "metadata": {},
     "output_type": "execute_result"
    }
   ],
   "source": [
    "style_name = \"myStyle\"\n",
    "defaults = {'NODE_SHAPE': \"diamond\", 'NODE_SIZE': 30, 'EDGE_TRANSPARENCY': 120, 'NODE_LABEL_POSITION': \"W,E,c,0.00,0.00\"}\n",
    "nodeLabels = p4c.map_visual_property('node label', 'id', 'p') #'p' means 'passthrough' mapping\n",
    "edgeWidth = p4c.map_visual_property('edge width', 'weight', 'p') #'p' means 'passthrough' mapping\n",
    "p4c.create_visual_style(style_name, defaults, [nodeLabels, edgeWidth])\n",
    "p4c.set_visual_style(style_name)"
   ]
  },
  {
   "cell_type": "code",
   "execution_count": 8,
   "id": "083f3ed1-a058-45ee-91da-1f97331f2700",
   "metadata": {},
   "outputs": [
    {
     "data": {
      "image/png": "[encoded data removed]",
      "text/plain": [
       "<IPython.core.display.Image object>"
      ]
     },
     "execution_count": 8,
     "metadata": {},
     "output_type": "execute_result"
    }
   ],
   "source": [
    "p4c.notebook_export_show_image()"
   ]
  },
  {
   "cell_type": "markdown",
   "id": "63c0ce85-94dd-4d0c-b904-0d2ffc69f2b6",
   "metadata": {},
   "source": [
    "py4cytoscape has the value generator functions.\n",
    "This makes it easy to automatically associate colors or multiple values with node (or edge) attribute values."
   ]
  },
  {
   "cell_type": "code",
   "execution_count": 9,
   "id": "fb7ea707-809d-406b-b04d-d70362ecc0f8",
   "metadata": {},
   "outputs": [
    {
     "data": {
      "text/plain": [
       "''"
      ]
     },
     "execution_count": 9,
     "metadata": {},
     "output_type": "execute_result"
    }
   ],
   "source": [
    "from py4cytoscape import gen_node_color_map\n",
    "from py4cytoscape import gen_edge_arrow_map\n",
    "p4c.set_node_color_mapping(**gen_node_color_map('group', mapping_type='d', style_name=style_name)) #'d' means 'discrete' mapping\n",
    "p4c.set_edge_target_arrow_shape_mapping(**gen_edge_arrow_map('interaction', style_name=style_name))"
   ]
  },
  {
   "cell_type": "code",
   "execution_count": 10,
   "id": "52c563a6-63a9-4a53-a6a2-052bf81a5e43",
   "metadata": {},
   "outputs": [
    {
     "data": {
      "image/png": "[encoded data removed]",
      "text/plain": [
       "<IPython.core.display.Image object>"
      ]
     },
     "execution_count": 10,
     "metadata": {},
     "output_type": "execute_result"
    }
   ],
   "source": [
    "p4c.notebook_export_show_image()"
   ]
  },
  {
   "cell_type": "markdown",
   "id": "03d732ff-8f8c-4d62-8371-25ccf3ba481e",
   "metadata": {},
   "source": [
    "*Pro-tip: if you want to set NODE_WIDTH and NODE_HEIGHT independently, you also need to unlock the node dimensions with…*"
   ]
  },
  {
   "cell_type": "code",
   "execution_count": 11,
   "id": "7322cd29-9920-4d96-89ef-18ec465a2da3",
   "metadata": {},
   "outputs": [
    {
     "data": {
      "text/plain": [
       "{'views': [342]}"
      ]
     },
     "execution_count": 11,
     "metadata": {},
     "output_type": "execute_result"
    }
   ],
   "source": [
    "p4c.lock_node_dimensions(False, style_name)"
   ]
  },
  {
   "cell_type": "code",
   "execution_count": 12,
   "id": "b7f7c273-4bb2-416d-b729-2f2cae3f92cb",
   "metadata": {},
   "outputs": [
    {
     "data": {
      "image/png": "[encoded data removed]",
      "text/plain": [
       "<IPython.core.display.Image object>"
      ]
     },
     "execution_count": 12,
     "metadata": {},
     "output_type": "execute_result"
    }
   ],
   "source": [
    "p4c.notebook_export_show_image()"
   ]
  },
  {
   "cell_type": "markdown",
   "id": "aca17fed-c371-4069-b41b-10018182c14e",
   "metadata": {},
   "source": [
    "## Biological graph example\n",
    "\n",
    "Here we create a 4-node graph in Python, send it to Cytoscape for display and layout. For the sake of simplicity, no node attributes and no visual styles are included; those topics are covered in subsequent steps."
   ]
  },
  {
   "cell_type": "code",
   "execution_count": 13,
   "id": "0ec9ccee-aae0-449f-9cac-7d9d256f0ba2",
   "metadata": {},
   "outputs": [
    {
     "name": "stdout",
     "output_type": "stream",
     "text": [
      "Applying default style...\n",
      "Applying preferred layout\n"
     ]
    },
    {
     "data": {
      "text/plain": [
       "395"
      ]
     },
     "execution_count": 13,
     "metadata": {},
     "output_type": "execute_result"
    }
   ],
   "source": [
    "nodes = pd.DataFrame(data={'id': [\"A\", \"B\", \"C\", \"D\"]})\n",
    "edges = pd.DataFrame(data={'source': [\"C\", \"B\", \"B\", \"B\"], 'target': [\"D\", \"A\", \"D\", \"C\"]})\n",
    "\n",
    "p4c.create_network_from_data_frames(nodes, edges, title=\"simple network\", collection=\"Biological Example\")"
   ]
  },
  {
   "cell_type": "code",
   "execution_count": 14,
   "id": "7b055a5a-a7e0-49f2-bcd5-c430840526e4",
   "metadata": {},
   "outputs": [
    {
     "data": {
      "image/png": "[encoded data removed]",
      "text/plain": [
       "<IPython.core.display.Image object>"
      ]
     },
     "execution_count": 14,
     "metadata": {},
     "output_type": "execute_result"
    }
   ],
   "source": [
    "p4c.notebook_export_show_image()"
   ]
  },
  {
   "cell_type": "markdown",
   "id": "e7160932-074c-461b-84ef-76658aa88423",
   "metadata": {},
   "source": [
    "You should now have the structure of this 4-node graph with a basic, default style. Fortunately, Cytoscape has some built-in rendering rules in which (and unless instructed otherwise) nodes and edges are rendered and a default (user-preference) layout algorithm is applied.\n",
    "\n",
    "### Add node attributes\n",
    "\n",
    "We often know quite a lot about the nodes and edges in our graphs. By conveying this information visually, the graph will be easier to explore. For instance, we may know that protein A phosphorylates protein B, that A is a kinase and B a transcription factor, and that their mRNA expression (compared to a control) is a log2 fold change of 1.8 and 3.2 respectively. One of the core features of Cytoscape is visual styles, which allow you to specify how data values (e.g., kinase,transcription factor; expression ratios) should be conveyed in the visual properties of the graph (e.g., node shape, node color or size).\n",
    "\n",
    "We continue with the simple 4-node graph, adding two kinds data values (moleculeType and log2fc). The easiest way to do this is via pandas DataFrame s. However, you can also include attributes together with the original graph models as igraph s or pandas DataFrame s and then use the provided create functions to create and load in a single step (see *p4c.create_network_from_igraph() and p4c.create_network_from_data_frames()* functions). Check out the other Notebooks for more examples.\n"
   ]
  },
  {
   "cell_type": "code",
   "execution_count": 15,
   "id": "55fbd1ac-e2ca-4fae-adb5-2869f79755b3",
   "metadata": {},
   "outputs": [
    {
     "data": {
      "text/html": [
       "<div>\n",
       "<style scoped>\n",
       "    .dataframe tbody tr th:only-of-type {\n",
       "        vertical-align: middle;\n",
       "    }\n",
       "\n",
       "    .dataframe tbody tr th {\n",
       "        vertical-align: top;\n",
       "    }\n",
       "\n",
       "    .dataframe thead th {\n",
       "        text-align: right;\n",
       "    }\n",
       "</style>\n",
       "<table border=\"1\" class=\"dataframe\">\n",
       "  <thead>\n",
       "    <tr style=\"text-align: right;\">\n",
       "      <th></th>\n",
       "      <th>SUID</th>\n",
       "      <th>shared name</th>\n",
       "      <th>name</th>\n",
       "      <th>selected</th>\n",
       "      <th>id</th>\n",
       "    </tr>\n",
       "  </thead>\n",
       "  <tbody>\n",
       "    <tr>\n",
       "      <th>422</th>\n",
       "      <td>422</td>\n",
       "      <td>A</td>\n",
       "      <td>A</td>\n",
       "      <td>False</td>\n",
       "      <td>A</td>\n",
       "    </tr>\n",
       "    <tr>\n",
       "      <th>429</th>\n",
       "      <td>429</td>\n",
       "      <td>B</td>\n",
       "      <td>B</td>\n",
       "      <td>False</td>\n",
       "      <td>B</td>\n",
       "    </tr>\n",
       "    <tr>\n",
       "      <th>432</th>\n",
       "      <td>432</td>\n",
       "      <td>C</td>\n",
       "      <td>C</td>\n",
       "      <td>False</td>\n",
       "      <td>C</td>\n",
       "    </tr>\n",
       "    <tr>\n",
       "      <th>435</th>\n",
       "      <td>435</td>\n",
       "      <td>D</td>\n",
       "      <td>D</td>\n",
       "      <td>False</td>\n",
       "      <td>D</td>\n",
       "    </tr>\n",
       "  </tbody>\n",
       "</table>\n",
       "</div>"
      ],
      "text/plain": [
       "    SUID shared name name selected id\n",
       "422  422           A    A    False  A\n",
       "429  429           B    B    False  B\n",
       "432  432           C    C    False  C\n",
       "435  435           D    D    False  D"
      ]
     },
     "execution_count": 15,
     "metadata": {},
     "output_type": "execute_result"
    }
   ],
   "source": [
    "p4c.get_table_columns()"
   ]
  },
  {
   "cell_type": "code",
   "execution_count": 16,
   "id": "a0dd03aa-a8db-4268-8932-ee7b98ec7e92",
   "metadata": {},
   "outputs": [
    {
     "data": {
      "text/html": [
       "<div>\n",
       "<style scoped>\n",
       "    .dataframe tbody tr th:only-of-type {\n",
       "        vertical-align: middle;\n",
       "    }\n",
       "\n",
       "    .dataframe tbody tr th {\n",
       "        vertical-align: top;\n",
       "    }\n",
       "\n",
       "    .dataframe thead th {\n",
       "        text-align: right;\n",
       "    }\n",
       "</style>\n",
       "<table border=\"1\" class=\"dataframe\">\n",
       "  <thead>\n",
       "    <tr style=\"text-align: right;\">\n",
       "      <th></th>\n",
       "      <th>moleculeType</th>\n",
       "      <th>log2fc</th>\n",
       "    </tr>\n",
       "  </thead>\n",
       "  <tbody>\n",
       "    <tr>\n",
       "      <th>A</th>\n",
       "      <td>kinase</td>\n",
       "      <td>1.8</td>\n",
       "    </tr>\n",
       "    <tr>\n",
       "      <th>B</th>\n",
       "      <td>TF</td>\n",
       "      <td>3.0</td>\n",
       "    </tr>\n",
       "    <tr>\n",
       "      <th>C</th>\n",
       "      <td>cytokine</td>\n",
       "      <td>-1.2</td>\n",
       "    </tr>\n",
       "    <tr>\n",
       "      <th>D</th>\n",
       "      <td>cytokine</td>\n",
       "      <td>-2.5</td>\n",
       "    </tr>\n",
       "  </tbody>\n",
       "</table>\n",
       "</div>"
      ],
      "text/plain": [
       "  moleculeType  log2fc\n",
       "A       kinase     1.8\n",
       "B           TF     3.0\n",
       "C     cytokine    -1.2\n",
       "D     cytokine    -2.5"
      ]
     },
     "execution_count": 16,
     "metadata": {},
     "output_type": "execute_result"
    }
   ],
   "source": [
    "df = pd.DataFrame(data={'moleculeType': ['kinase','TF','cytokine','cytokine'], 'log2fc': [1.8,3.0,-1.2,-2.5]})\n",
    "df.index = ['A','B','C','D']\n",
    "df"
   ]
  },
  {
   "cell_type": "code",
   "execution_count": 17,
   "id": "6c92ebd1-8441-4ce6-a295-bed443818ae2",
   "metadata": {},
   "outputs": [
    {
     "data": {
      "text/plain": [
       "'Success: Data loaded in defaultnode table'"
      ]
     },
     "execution_count": 17,
     "metadata": {},
     "output_type": "execute_result"
    }
   ],
   "source": [
    "p4c.load_table_data(df)"
   ]
  },
  {
   "cell_type": "code",
   "execution_count": 18,
   "id": "b4270504-73e3-42fb-9be3-1e286fe13371",
   "metadata": {},
   "outputs": [
    {
     "data": {
      "text/html": [
       "<div>\n",
       "<style scoped>\n",
       "    .dataframe tbody tr th:only-of-type {\n",
       "        vertical-align: middle;\n",
       "    }\n",
       "\n",
       "    .dataframe tbody tr th {\n",
       "        vertical-align: top;\n",
       "    }\n",
       "\n",
       "    .dataframe thead th {\n",
       "        text-align: right;\n",
       "    }\n",
       "</style>\n",
       "<table border=\"1\" class=\"dataframe\">\n",
       "  <thead>\n",
       "    <tr style=\"text-align: right;\">\n",
       "      <th></th>\n",
       "      <th>SUID</th>\n",
       "      <th>shared name</th>\n",
       "      <th>name</th>\n",
       "      <th>selected</th>\n",
       "      <th>id</th>\n",
       "      <th>moleculeType</th>\n",
       "      <th>log2fc</th>\n",
       "      <th>row.names</th>\n",
       "    </tr>\n",
       "  </thead>\n",
       "  <tbody>\n",
       "    <tr>\n",
       "      <th>422</th>\n",
       "      <td>422</td>\n",
       "      <td>A</td>\n",
       "      <td>A</td>\n",
       "      <td>False</td>\n",
       "      <td>A</td>\n",
       "      <td>kinase</td>\n",
       "      <td>1.8</td>\n",
       "      <td>A</td>\n",
       "    </tr>\n",
       "    <tr>\n",
       "      <th>429</th>\n",
       "      <td>429</td>\n",
       "      <td>B</td>\n",
       "      <td>B</td>\n",
       "      <td>False</td>\n",
       "      <td>B</td>\n",
       "      <td>TF</td>\n",
       "      <td>3.0</td>\n",
       "      <td>B</td>\n",
       "    </tr>\n",
       "    <tr>\n",
       "      <th>432</th>\n",
       "      <td>432</td>\n",
       "      <td>C</td>\n",
       "      <td>C</td>\n",
       "      <td>False</td>\n",
       "      <td>C</td>\n",
       "      <td>cytokine</td>\n",
       "      <td>-1.2</td>\n",
       "      <td>C</td>\n",
       "    </tr>\n",
       "    <tr>\n",
       "      <th>435</th>\n",
       "      <td>435</td>\n",
       "      <td>D</td>\n",
       "      <td>D</td>\n",
       "      <td>False</td>\n",
       "      <td>D</td>\n",
       "      <td>cytokine</td>\n",
       "      <td>-2.5</td>\n",
       "      <td>D</td>\n",
       "    </tr>\n",
       "  </tbody>\n",
       "</table>\n",
       "</div>"
      ],
      "text/plain": [
       "    SUID shared name name selected id moleculeType log2fc row.names\n",
       "422  422           A    A    False  A       kinase    1.8         A\n",
       "429  429           B    B    False  B           TF    3.0         B\n",
       "432  432           C    C    False  C     cytokine   -1.2         C\n",
       "435  435           D    D    False  D     cytokine   -2.5         D"
      ]
     },
     "execution_count": 18,
     "metadata": {},
     "output_type": "execute_result"
    }
   ],
   "source": [
    "p4c.get_table_columns()"
   ]
  },
  {
   "cell_type": "markdown",
   "id": "dffe72d7-f511-4b07-ac90-c9841bb295f9",
   "metadata": {},
   "source": [
    "Note that adding the attributes does not in itself cause the appearance of the graph to change. Such a change requires that you specify and apply visual style mappings, which will be explained in the *next* section. You can, however, examine these attributes in Cytoscape, using Cytoscape’s the **Data Panel** to display data values associated with selected nodes immediately below the Cytoscape window.\n",
    "\n",
    "### Modifying the display: defaults and mappings\n",
    "\n",
    "py4cytoscape provides an easy way to not only change the default styles, but more interestingly, py4cytoscape also provides easy access to *mapping* your data to visual styles, e.g., allowing the size, shape and color of nodes and edges to be determined by the data you have associated with those nodes and edges.\n",
    "\n",
    "First, let’s change the the defaults."
   ]
  },
  {
   "cell_type": "code",
   "execution_count": 19,
   "id": "510e6535-a531-4431-8316-144e7b1e44fd",
   "metadata": {},
   "outputs": [
    {
     "name": "stdout",
     "output_type": "stream",
     "text": [
      "style_name not specified, so updating \"default\" style.\n"
     ]
    },
    {
     "data": {
      "text/plain": [
       "''"
      ]
     },
     "execution_count": 19,
     "metadata": {},
     "output_type": "execute_result"
    }
   ],
   "source": [
    "p4c.set_node_shape_default('OCTAGON')"
   ]
  },
  {
   "cell_type": "code",
   "execution_count": 20,
   "id": "139a3f33-0bfa-40b3-bcb9-851028be8963",
   "metadata": {},
   "outputs": [
    {
     "data": {
      "image/png": "[encoded data removed]",
      "text/plain": [
       "<IPython.core.display.Image object>"
      ]
     },
     "execution_count": 20,
     "metadata": {},
     "output_type": "execute_result"
    }
   ],
   "source": [
    "p4c.notebook_export_show_image()"
   ]
  },
  {
   "cell_type": "code",
   "execution_count": 21,
   "id": "0467254e-0f59-47f5-81af-d29a1ddb543b",
   "metadata": {},
   "outputs": [
    {
     "name": "stdout",
     "output_type": "stream",
     "text": [
      "style_name not specified, so updating \"default\" style.\n"
     ]
    },
    {
     "data": {
      "text/plain": [
       "''"
      ]
     },
     "execution_count": 21,
     "metadata": {},
     "output_type": "execute_result"
    }
   ],
   "source": [
    "p4c.set_node_color_default('#AAFF88')"
   ]
  },
  {
   "cell_type": "code",
   "execution_count": 22,
   "id": "70381825-4527-4be8-af6e-33c046243c83",
   "metadata": {},
   "outputs": [
    {
     "data": {
      "image/png": "[encoded data removed]",
      "text/plain": [
       "<IPython.core.display.Image object>"
      ]
     },
     "execution_count": 22,
     "metadata": {},
     "output_type": "execute_result"
    }
   ],
   "source": [
    "p4c.notebook_export_show_image()"
   ]
  },
  {
   "cell_type": "code",
   "execution_count": 23,
   "id": "41323340-bea0-4525-a541-db4169292bc0",
   "metadata": {},
   "outputs": [
    {
     "name": "stdout",
     "output_type": "stream",
     "text": [
      "style_name not specified, so updating \"default\" style.\n",
      "style_name not specified, so updating \"default\" style.\n"
     ]
    },
    {
     "data": {
      "text/plain": [
       "''"
      ]
     },
     "execution_count": 23,
     "metadata": {},
     "output_type": "execute_result"
    }
   ],
   "source": [
    "p4c.set_node_size_default(60)"
   ]
  },
  {
   "cell_type": "code",
   "execution_count": 24,
   "id": "05c37005-d45d-49a1-898b-36babab42e56",
   "metadata": {},
   "outputs": [
    {
     "data": {
      "image/png": "[encoded data removed]",
      "text/plain": [
       "<IPython.core.display.Image object>"
      ]
     },
     "execution_count": 24,
     "metadata": {},
     "output_type": "execute_result"
    }
   ],
   "source": [
    "p4c.notebook_export_show_image()"
   ]
  },
  {
   "cell_type": "code",
   "execution_count": 25,
   "id": "288945c6-3696-4e12-bb78-23e897d0206a",
   "metadata": {},
   "outputs": [
    {
     "name": "stdout",
     "output_type": "stream",
     "text": [
      "style_name not specified, so updating \"default\" style.\n"
     ]
    },
    {
     "data": {
      "text/plain": [
       "''"
      ]
     },
     "execution_count": 25,
     "metadata": {},
     "output_type": "execute_result"
    }
   ],
   "source": [
    "p4c.set_node_font_size_default(30)"
   ]
  },
  {
   "cell_type": "code",
   "execution_count": 26,
   "id": "cd0e536f-083e-4119-bdc6-56827e70b355",
   "metadata": {},
   "outputs": [
    {
     "data": {
      "image/png": "[encoded data removed]",
      "text/plain": [
       "<IPython.core.display.Image object>"
      ]
     },
     "execution_count": 26,
     "metadata": {},
     "output_type": "execute_result"
    }
   ],
   "source": [
    "p4c.notebook_export_show_image()"
   ]
  },
  {
   "cell_type": "markdown",
   "id": "c5b836ff-94b1-49bf-a30a-af729f350eef",
   "metadata": {},
   "source": [
    "Now we will add some visual mappings. Let’s map `moleculeType’ to node shapes. First, we can see which shapes are available in Cytoscape, then we can define the mapping with paired lists."
   ]
  },
  {
   "cell_type": "code",
   "execution_count": 27,
   "id": "136544de-f126-41a7-9af4-984066c211bc",
   "metadata": {},
   "outputs": [
    {
     "data": {
      "text/plain": [
       "['PARALLELOGRAM',\n",
       " 'RECTANGLE',\n",
       " 'OCTAGON',\n",
       " 'TRIANGLE',\n",
       " 'DIAMOND',\n",
       " 'VEE',\n",
       " 'ROUND_RECTANGLE',\n",
       " 'ELLIPSE',\n",
       " 'HEXAGON']"
      ]
     },
     "execution_count": 27,
     "metadata": {},
     "output_type": "execute_result"
    }
   ],
   "source": [
    "p4c.get_node_shapes()"
   ]
  },
  {
   "cell_type": "code",
   "execution_count": 28,
   "id": "c9002eab-e0cd-40a6-aa38-f9c44426a5e9",
   "metadata": {},
   "outputs": [
    {
     "data": {
      "text/html": [
       "<div>\n",
       "<style scoped>\n",
       "    .dataframe tbody tr th:only-of-type {\n",
       "        vertical-align: middle;\n",
       "    }\n",
       "\n",
       "    .dataframe tbody tr th {\n",
       "        vertical-align: top;\n",
       "    }\n",
       "\n",
       "    .dataframe thead th {\n",
       "        text-align: right;\n",
       "    }\n",
       "</style>\n",
       "<table border=\"1\" class=\"dataframe\">\n",
       "  <thead>\n",
       "    <tr style=\"text-align: right;\">\n",
       "      <th></th>\n",
       "      <th>SUID</th>\n",
       "      <th>shared name</th>\n",
       "      <th>name</th>\n",
       "      <th>selected</th>\n",
       "      <th>id</th>\n",
       "      <th>moleculeType</th>\n",
       "      <th>log2fc</th>\n",
       "      <th>row.names</th>\n",
       "    </tr>\n",
       "  </thead>\n",
       "  <tbody>\n",
       "    <tr>\n",
       "      <th>422</th>\n",
       "      <td>422</td>\n",
       "      <td>A</td>\n",
       "      <td>A</td>\n",
       "      <td>False</td>\n",
       "      <td>A</td>\n",
       "      <td>kinase</td>\n",
       "      <td>1.8</td>\n",
       "      <td>A</td>\n",
       "    </tr>\n",
       "    <tr>\n",
       "      <th>429</th>\n",
       "      <td>429</td>\n",
       "      <td>B</td>\n",
       "      <td>B</td>\n",
       "      <td>False</td>\n",
       "      <td>B</td>\n",
       "      <td>TF</td>\n",
       "      <td>3.0</td>\n",
       "      <td>B</td>\n",
       "    </tr>\n",
       "    <tr>\n",
       "      <th>432</th>\n",
       "      <td>432</td>\n",
       "      <td>C</td>\n",
       "      <td>C</td>\n",
       "      <td>False</td>\n",
       "      <td>C</td>\n",
       "      <td>cytokine</td>\n",
       "      <td>-1.2</td>\n",
       "      <td>C</td>\n",
       "    </tr>\n",
       "    <tr>\n",
       "      <th>435</th>\n",
       "      <td>435</td>\n",
       "      <td>D</td>\n",
       "      <td>D</td>\n",
       "      <td>False</td>\n",
       "      <td>D</td>\n",
       "      <td>cytokine</td>\n",
       "      <td>-2.5</td>\n",
       "      <td>D</td>\n",
       "    </tr>\n",
       "  </tbody>\n",
       "</table>\n",
       "</div>"
      ],
      "text/plain": [
       "    SUID shared name name selected id moleculeType log2fc row.names\n",
       "422  422           A    A    False  A       kinase    1.8         A\n",
       "429  429           B    B    False  B           TF    3.0         B\n",
       "432  432           C    C    False  C     cytokine   -1.2         C\n",
       "435  435           D    D    False  D     cytokine   -2.5         D"
      ]
     },
     "execution_count": 28,
     "metadata": {},
     "output_type": "execute_result"
    }
   ],
   "source": [
    "p4c.get_table_columns()"
   ]
  },
  {
   "cell_type": "code",
   "execution_count": 29,
   "id": "cda80300-77e4-495f-9666-ef9bfe4376b9",
   "metadata": {},
   "outputs": [
    {
     "name": "stdout",
     "output_type": "stream",
     "text": [
      "style_name not specified, so updating \"default\" style.\n"
     ]
    },
    {
     "data": {
      "text/plain": [
       "''"
      ]
     },
     "execution_count": 29,
     "metadata": {},
     "output_type": "execute_result"
    }
   ],
   "source": [
    "column = 'moleculeType'\n",
    "values = ['kinase', 'TF', 'cytokine']\n",
    "shapes = ['DIAMOND', 'TRIANGLE', 'RECTANGLE']\n",
    "\n",
    "p4c.set_node_shape_mapping(column, values, shapes)"
   ]
  },
  {
   "cell_type": "code",
   "execution_count": 30,
   "id": "bc42f6d2-a97d-4b3c-80cf-fd7f4fec0bfd",
   "metadata": {},
   "outputs": [
    {
     "data": {
      "image/png": "[encoded data removed]",
      "text/plain": [
       "<IPython.core.display.Image object>"
      ]
     },
     "execution_count": 30,
     "metadata": {},
     "output_type": "execute_result"
    }
   ],
   "source": [
    "p4c.notebook_export_show_image()"
   ]
  },
  {
   "cell_type": "markdown",
   "id": "cf0446ee-8d13-4832-a71a-4c0e22cbcbae",
   "metadata": {},
   "source": [
    "The node shape mapping is an example of a *discrete* mapping, where a style is defined for each, discrete value. This is useful for categorical data (like type) where there is only a limited set of possible values. This is in contast to the other two other types of mappings: *continuous* and *passthrough*. In the case of expression values, for example, we will want to use *continuous* mapping (e.g., to node color) rather than an explicit color for each possible data value. py4cytoscape provides the gradient of colors in a simple way. Let’s try that one now"
   ]
  },
  {
   "cell_type": "code",
   "execution_count": 31,
   "id": "ce15bc9d-c3d9-4e62-b7ab-c953a36bfe28",
   "metadata": {},
   "outputs": [
    {
     "name": "stdout",
     "output_type": "stream",
     "text": [
      "style_name not specified, so updating \"default\" style.\n"
     ]
    },
    {
     "data": {
      "text/plain": [
       "''"
      ]
     },
     "execution_count": 31,
     "metadata": {},
     "output_type": "execute_result"
    }
   ],
   "source": [
    "from py4cytoscape import palette_color_brewer_d_RdBu\n",
    "p4c.set_node_color_mapping(**gen_node_color_map('log2fc', palette_color_brewer_d_RdBu()))"
   ]
  },
  {
   "cell_type": "markdown",
   "id": "6f6354ce-2b94-4f8e-80b2-e64485c56c34",
   "metadata": {},
   "source": [
    "Note that there are `palette_color_brewer_d_RdBu` function.\n",
    "This generates a divergent palette for continuous mappings of mixed-signed values.\n",
    "Here `_d_` means \"divergent\" (does not means \"discrete\")."
   ]
  },
  {
   "cell_type": "code",
   "execution_count": 32,
   "id": "df04f078-e2b9-44d9-b458-a6194e0f0944",
   "metadata": {},
   "outputs": [
    {
     "data": {
      "text/html": [
       "<div>\n",
       "<style scoped>\n",
       "    .dataframe tbody tr th:only-of-type {\n",
       "        vertical-align: middle;\n",
       "    }\n",
       "\n",
       "    .dataframe tbody tr th {\n",
       "        vertical-align: top;\n",
       "    }\n",
       "\n",
       "    .dataframe thead th {\n",
       "        text-align: right;\n",
       "    }\n",
       "</style>\n",
       "<table border=\"1\" class=\"dataframe\">\n",
       "  <thead>\n",
       "    <tr style=\"text-align: right;\">\n",
       "      <th></th>\n",
       "      <th>SUID</th>\n",
       "      <th>shared name</th>\n",
       "      <th>name</th>\n",
       "      <th>selected</th>\n",
       "      <th>id</th>\n",
       "      <th>moleculeType</th>\n",
       "      <th>log2fc</th>\n",
       "      <th>row.names</th>\n",
       "    </tr>\n",
       "  </thead>\n",
       "  <tbody>\n",
       "    <tr>\n",
       "      <th>422</th>\n",
       "      <td>422</td>\n",
       "      <td>A</td>\n",
       "      <td>A</td>\n",
       "      <td>False</td>\n",
       "      <td>A</td>\n",
       "      <td>kinase</td>\n",
       "      <td>1.8</td>\n",
       "      <td>A</td>\n",
       "    </tr>\n",
       "    <tr>\n",
       "      <th>429</th>\n",
       "      <td>429</td>\n",
       "      <td>B</td>\n",
       "      <td>B</td>\n",
       "      <td>False</td>\n",
       "      <td>B</td>\n",
       "      <td>TF</td>\n",
       "      <td>3.0</td>\n",
       "      <td>B</td>\n",
       "    </tr>\n",
       "    <tr>\n",
       "      <th>432</th>\n",
       "      <td>432</td>\n",
       "      <td>C</td>\n",
       "      <td>C</td>\n",
       "      <td>False</td>\n",
       "      <td>C</td>\n",
       "      <td>cytokine</td>\n",
       "      <td>-1.2</td>\n",
       "      <td>C</td>\n",
       "    </tr>\n",
       "    <tr>\n",
       "      <th>435</th>\n",
       "      <td>435</td>\n",
       "      <td>D</td>\n",
       "      <td>D</td>\n",
       "      <td>False</td>\n",
       "      <td>D</td>\n",
       "      <td>cytokine</td>\n",
       "      <td>-2.5</td>\n",
       "      <td>D</td>\n",
       "    </tr>\n",
       "  </tbody>\n",
       "</table>\n",
       "</div>"
      ],
      "text/plain": [
       "    SUID shared name name selected id moleculeType log2fc row.names\n",
       "422  422           A    A    False  A       kinase    1.8         A\n",
       "429  429           B    B    False  B           TF    3.0         B\n",
       "432  432           C    C    False  C     cytokine   -1.2         C\n",
       "435  435           D    D    False  D     cytokine   -2.5         D"
      ]
     },
     "execution_count": 32,
     "metadata": {},
     "output_type": "execute_result"
    }
   ],
   "source": [
    "p4c.get_table_columns()"
   ]
  },
  {
   "cell_type": "code",
   "execution_count": 33,
   "id": "66c89453-7c20-4a84-9d12-27a7cd6d4724",
   "metadata": {},
   "outputs": [
    {
     "data": {
      "image/png": "[encoded data removed]",
      "text/plain": [
       "<IPython.core.display.Image object>"
      ]
     },
     "execution_count": 33,
     "metadata": {},
     "output_type": "execute_result"
    }
   ],
   "source": [
    "p4c.notebook_export_show_image()"
   ]
  },
  {
   "cell_type": "markdown",
   "id": "5d81f5e1-f56a-496f-bcc5-72d2056c727f",
   "metadata": {},
   "source": [
    "### Selecting nodes\n",
    "Let us now try selecting nodes in Cytoscape from Python. Select the C node by name:"
   ]
  },
  {
   "cell_type": "code",
   "execution_count": 34,
   "id": "d25d9c55-58b6-43bd-93e0-4850f7387eb6",
   "metadata": {},
   "outputs": [
    {
     "data": {
      "text/plain": [
       "{'nodes': [432], 'edges': []}"
      ]
     },
     "execution_count": 34,
     "metadata": {},
     "output_type": "execute_result"
    }
   ],
   "source": [
    "p4c.select_nodes('C', 'name')"
   ]
  },
  {
   "cell_type": "code",
   "execution_count": 35,
   "id": "21f5162c-a6fd-4f89-a940-0cf1b360af70",
   "metadata": {},
   "outputs": [
    {
     "data": {
      "text/plain": [
       "['C']"
      ]
     },
     "execution_count": 35,
     "metadata": {},
     "output_type": "execute_result"
    }
   ],
   "source": [
    "p4c.get_selected_nodes()"
   ]
  },
  {
   "cell_type": "code",
   "execution_count": 36,
   "id": "83c28c0b-4821-41e8-9e21-747879abeb38",
   "metadata": {},
   "outputs": [
    {
     "data": {
      "image/png": "[encoded data removed]",
      "text/plain": [
       "<IPython.core.display.Image object>"
      ]
     },
     "execution_count": 36,
     "metadata": {},
     "output_type": "execute_result"
    }
   ],
   "source": [
    "p4c.notebook_export_show_image()"
   ]
  },
  {
   "cell_type": "markdown",
   "id": "e2357561-654f-4744-96f4-6f33b287bc0d",
   "metadata": {},
   "source": [
    "Now we wish to extend the selected nodes to include the first neighbors of the already-selected node B. This is a common operation: for instance, after selecting one or more nodes based on experimental data or annotation, you may want to explore these in the context of interaction partners (in a protein-protein network) or in relation to upstream and downstream partners in a signaling or metabolic network. Type:"
   ]
  },
  {
   "cell_type": "code",
   "execution_count": 37,
   "id": "ff112792-ff4a-4174-9439-9e2d8f746d38",
   "metadata": {},
   "outputs": [
    {
     "data": {
      "text/plain": [
       "{'nodes': [432, 435, 429], 'edges': []}"
      ]
     },
     "execution_count": 37,
     "metadata": {},
     "output_type": "execute_result"
    }
   ],
   "source": [
    "p4c.select_first_neighbors()"
   ]
  },
  {
   "cell_type": "code",
   "execution_count": 38,
   "id": "fb1fcee5-c9e4-444d-b282-7484ded70129",
   "metadata": {},
   "outputs": [
    {
     "data": {
      "image/png": "[encoded data removed]",
      "text/plain": [
       "<IPython.core.display.Image object>"
      ]
     },
     "execution_count": 38,
     "metadata": {},
     "output_type": "execute_result"
    }
   ],
   "source": [
    "p4c.notebook_export_show_image()"
   ]
  },
  {
   "cell_type": "markdown",
   "id": "9b5d5c6e-ec19-4e23-9416-ad70490c63cc",
   "metadata": {},
   "source": [
    "You will see that three nodes are now selected. Get their names back to Python as a list:"
   ]
  },
  {
   "cell_type": "code",
   "execution_count": 39,
   "id": "71ca1138-22e5-4146-bd85-16168e72de63",
   "metadata": {},
   "outputs": [],
   "source": [
    "node_names = p4c.get_selected_nodes()"
   ]
  },
  {
   "cell_type": "code",
   "execution_count": 40,
   "id": "ed677d18-9f7b-4558-ac7c-3cae143ab46e",
   "metadata": {},
   "outputs": [
    {
     "data": {
      "text/plain": [
       "['C', 'D', 'B']"
      ]
     },
     "execution_count": 40,
     "metadata": {},
     "output_type": "execute_result"
    }
   ],
   "source": [
    "node_names"
   ]
  },
  {
   "cell_type": "markdown",
   "id": "53c27d8d-904a-4650-955c-4be4f5bd1377",
   "metadata": {},
   "source": [
    "*And*, finally, deselection works as you’d expect by means of a general *p4c.clearSelection()* function:"
   ]
  },
  {
   "cell_type": "code",
   "execution_count": 41,
   "id": "b1539119-bef8-49e4-8260-f0c0d41fdade",
   "metadata": {},
   "outputs": [
    {
     "data": {
      "text/plain": [
       "''"
      ]
     },
     "execution_count": 41,
     "metadata": {},
     "output_type": "execute_result"
    }
   ],
   "source": [
    "p4c.clear_selection()"
   ]
  },
  {
   "cell_type": "code",
   "execution_count": 42,
   "id": "96d11f6d-d838-443d-abb4-142a9661f7de",
   "metadata": {},
   "outputs": [
    {
     "data": {
      "image/png": "[encoded data removed]",
      "text/plain": [
       "<IPython.core.display.Image object>"
      ]
     },
     "execution_count": 42,
     "metadata": {},
     "output_type": "execute_result"
    }
   ],
   "source": [
    "p4c.notebook_export_show_image()"
   ]
  },
  {
   "cell_type": "markdown",
   "id": "291da357-f3a0-4627-9262-f8eac22034aa",
   "metadata": {},
   "source": [
    "## Browse available functions\n",
    "\n",
    "py4cytoscape functions"
   ]
  },
  {
   "cell_type": "markdown",
   "id": "f4f55f3d-6d4a-4932-9d2f-317f8c23a4b6",
   "metadata": {},
   "source": [
    "Category | Description | Examples\n",
    "--- | --- | ---\n",
    "apps | Inspecting and managing apps for Cytoscape. | *install_app<br/> disable_app<br/> get_installed_apps*\n",
    "collections | Getting information about network collections. | *get_collection_list<br/> get_collection_networks*\n",
    "commands | Constructing any arbitrary CyREST API or Commands API method via standard GET, PUT, POST and DELETE protocols. | *cyrest_get<br/> commands_post<br/> cyrest_api<br/> commands_run*\n",
    "cy_ndex | Communicating with NDEx from within Cytoscape. | *import_network_from_ndex<br/> export_network_to_ndex<br/>*\n",
    "cytoscape_system | Checking Cytoscape System information, including versions and memory usage. | *cytoscape_ping<br/> cytoscape_version_info<br/>*\n",
    "filters |\tSelecting nodes and edges based on filter criteria. |*create_degree_filter<br/> create_column_filter<br/>*\n",
    "groups | Working with groups in Cytoscape. | *create_group<br/> collapse_group<br/>*\n",
    "layouts | Performing layouts in addition to getting and setting layout properties. | *layout_network<br/> get_layout_names<br/>*\n",
    "networks | Creating and managing networks and retrieving information on networks, nodes and edges. | *create_network_from…<br/> create…_from_network<br/> get_network_suid<br/> export_network<br/> get_all_nodes<br/> get_edge_count<br/> get_first_neighbors<br/>*\n",
    "network_selection | Manipulating selection of nodes and edges in networks. | *select_nodes<br/> invert_node_selection<br/> select_first_neighbors<br/>*\n",
    "network_views | Performing view operations in addition to getting and setting view properties. | *fit_content<br/> export_image<br/> toggle_graphics_details*\n",
    "session | Managing Cytoscape sessions, including save, open and close. | *open_session<br/> save_session<br/> close_session*\n",
    "style_bypasses | Setting and clearing bypass values for visual properties. | *set_node_color_bypass<br/> set_edge_line_style_bypass<br/> hide_nodes*\n",
    "style_defaults | Getting and setting default values for visual properties. | *set_node_shape_default<br/> set_edge_line_width_default*\n",
    "style_dependencies | Getting and setting style dependencies. | *lock_node_dimensions*\n",
    "style_mappings | Defining mappings between table column values and visual properties. | *map_visual_property<br/> update_style_mapping<br/> set_node_size_mapping<br/> set_edge_color_mapping*\n",
    "styles | Managing styles and retrieving general lists of properties relevant to multiple style modes. | *create_visual_style<br/> set_visual_style<br/> export_visual_styles<br/> get_arrow_shapes*\n",
    "style_values | Retrieving current values for visual properties. | *get_node_width<br/> get_edge_color<br/> get_network_zoom*\n",
    "tables | Managing table columns and table column functions, like map and rename, as well as loading and extracting table data in Cytoscape. | *get_table_columns<br/> rename_table_column<br/> load_table_data<br/> map_table_column*\n",
    "tools | Performing actions found in the Tools Menu in Cytoscape. | *cybrowser_dialog<br/> diffusion_basic*\n",
    "user_interface | Controling the panels in the Cytoscape user interface. | *hide_panel<br/> float_panel<br/> dock_panel*\n"
   ]
  },
  {
   "cell_type": "markdown",
   "id": "e1deee2e-134c-41f9-b25c-9ea5474fcd81",
   "metadata": {},
   "source": [
    "## More examples\n",
    "\n",
    "The Cytoscape team is collecting scripts from the community in a public GitHub repository at https://github.com/cytoscape/cytoscape-automation/tree/master/for-scripters/Python.\n",
    "\n",
    "## Development\n",
    "\n",
    "The py4cytoscape project code and documentation is maintained at GitHub: https://github.com/cytoscape/py4cytoscape. All bugs and feature requests are tracked as Issues, https://github.com/cytoscape/py4cytoscape/issues.\n",
    "\n",
    "## Credits\n",
    "\n",
    "- Paul Shannon’s generous advice and mentorship was very important for transforming this package from using XMLRPC and CytoscapeRPC to using CyREST.\n",
    "- David Otasek, Keiichiro Ono and Barry Demchak kindly provided CyREST as well as help and support for new functionalities and changes.\n",
    "- Mark Grimes and Ruth Isserlin kindly provided helpful user feedback.\n",
    "- Julia Gustavsen generously developed various use cases/examples for using RCy3 with biological data during GSOC 2016, https://github.com/jooolia/gsoc_Rcy3_vignettes/blob/master/blog_post_drafts/final_work_submission.md.\n",
    "- Tanja Muetze provided many years of development, design, maintenance and documentation for the RCy3 project.\n",
    "- All contributors, new and old, are dynamically acknowledged in our Contributor Graph, https://github.com/cytoscape/py4cytoscape/graphs/contributors\n",
    "\n",
    "## References\n",
    "\n",
    "1. Shannon P, Markiel A, Ozier O, Baliga NS, Wang JT, Ramage D, Amin N, Schwikowski B, Ideker T. 2003. Cytoscape: a software environment for integrated models of biomolecular interaction networks. Genome Res. Nov;13(11):2498-504\n",
    "2. Huber W, Carey VJ, Long L, Falcon S, Gentleman R. 2007. Graphs in molecular biology. BMC Bioinformatics. 2007 Sep 27;8.\n",
    "3. Ono K, Muetze T, Kolishovski G, Shannon P, Demchak B. CyREST: Turbocharging Cytoscape Access for External Tools via a RESTful API [version 1; referees: 2 approved]. F1000Research 2015, 4:478.\n",
    "4. Otasek D, Morris JH, Bouças J, Pico AR, Demchak B. 2019. Cytoscape Automation: empowering workflow-based network analysis. Genome Biol. 2019 Sep 2;20(1):185.\n"
   ]
  },
  {
   "cell_type": "code",
   "execution_count": null,
   "id": "8b6a94f3-fc31-4beb-b35a-7b82dd6cd0b8",
   "metadata": {},
   "outputs": [],
   "source": []
  }
 ],
 "metadata": {
  "kernelspec": {
   "display_name": "Python 3.9.5 ('base')",
   "language": "python",
   "name": "python3"
  },
  "language_info": {
   "codemirror_mode": {
    "name": "ipython",
    "version": 3
   },
   "file_extension": ".py",
   "mimetype": "text/x-python",
   "name": "python",
   "nbconvert_exporter": "python",
   "pygments_lexer": "ipython3",
   "version": "3.9.5"
  },
  "vscode": {
   "interpreter": {
    "hash": "3aea9d04d643a3dad58bd6e15bcfdd921ab432a7c2b9a15d89f108cc0c05ed72"
   }
  }
 },
 "nbformat": 4,
 "nbformat_minor": 5
}
